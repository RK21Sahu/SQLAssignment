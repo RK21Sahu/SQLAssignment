{
 "cells": [
  {
   "cell_type": "code",
   "execution_count": null,
   "id": "c8eb1287",
   "metadata": {},
   "outputs": [],
   "source": [
    "Q-13. Write an SQL query to show only odd rows from a table.\n",
    "ans -  SELECT * from worker where worker_ID%2 <>0; "
   ]
  },
  {
   "cell_type": "code",
   "execution_count": null,
   "id": "944e06ed",
   "metadata": {},
   "outputs": [],
   "source": [
    "Q-14. Write an SQL query to clone a new table from another table.\n",
    "ans - \n",
    "create table worker_clone like worker;\n",
    "insert into worker_clone select * from worker;\n",
    "select * from worker_clone;"
   ]
  },
  {
   "cell_type": "code",
   "execution_count": null,
   "id": "7080afcb",
   "metadata": {},
   "outputs": [],
   "source": []
  }
 ],
 "metadata": {
  "kernelspec": {
   "display_name": "Python 3",
   "language": "python",
   "name": "python3"
  },
  "language_info": {
   "codemirror_mode": {
    "name": "ipython",
    "version": 3
   },
   "file_extension": ".py",
   "mimetype": "text/x-python",
   "name": "python",
   "nbconvert_exporter": "python",
   "pygments_lexer": "ipython3",
   "version": "3.8.8"
  }
 },
 "nbformat": 4,
 "nbformat_minor": 5
}
