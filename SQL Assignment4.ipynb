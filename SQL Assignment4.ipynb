{
 "cells": [
  {
   "cell_type": "code",
   "execution_count": null,
   "id": "18bf1902",
   "metadata": {},
   "outputs": [],
   "source": [
    "Q-1. Write an SQL query to print the FIRST_NAME from Worker table after replacing ‘a’ with ‘A’.\n",
    "Ans - select replace(FIRST_NAME,'a','A') from worker;"
   ]
  },
  {
   "cell_type": "code",
   "execution_count": null,
   "id": "2ea9b631",
   "metadata": {},
   "outputs": [],
   "source": [
    "Q-2. Write an SQL query to print all Worker details from the Worker table order by FIRST_NAME Ascending and\n",
    "DEPARTMENT Descending.\n",
    "Ans -  select * from worker order by FIRST_NAME ASC, DEPARTMENT DESC;"
   ]
  },
  {
   "cell_type": "code",
   "execution_count": null,
   "id": "866d4137",
   "metadata": {},
   "outputs": [],
   "source": [
    "Q-3. Write an SQL query to fetch the names of workers who earn the highest salary.\n",
    "ans - select FIRST_NAME,salary from worker where salary = (select max(salary) from worker);\n"
   ]
  },
  {
   "cell_type": "code",
   "execution_count": null,
   "id": "35e9bfbb",
   "metadata": {},
   "outputs": [],
   "source": []
  }
 ],
 "metadata": {
  "kernelspec": {
   "display_name": "Python 3",
   "language": "python",
   "name": "python3"
  },
  "language_info": {
   "codemirror_mode": {
    "name": "ipython",
    "version": 3
   },
   "file_extension": ".py",
   "mimetype": "text/x-python",
   "name": "python",
   "nbconvert_exporter": "python",
   "pygments_lexer": "ipython3",
   "version": "3.8.8"
  }
 },
 "nbformat": 4,
 "nbformat_minor": 5
}
