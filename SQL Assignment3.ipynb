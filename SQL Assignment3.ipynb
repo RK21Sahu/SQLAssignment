{
 "cells": [
  {
   "cell_type": "code",
   "execution_count": null,
   "id": "5b38cd44",
   "metadata": {},
   "outputs": [],
   "source": [
    "Q-1. Write an SQL query to print the FIRST_NAME from Worker table after removing white spaces from the right side.\n",
    "Ans - select rtrim(FIRST_NAME) from worker; "
   ]
  },
  {
   "cell_type": "code",
   "execution_count": null,
   "id": "330f64f9",
   "metadata": {},
   "outputs": [],
   "source": [
    "Q-2. Write an SQL query that fetches the unique values of DEPARTMENT from Worker table and prints its length.\n",
    "ans - select distinct length(DEPARTMENT) from worker;"
   ]
  },
  {
   "cell_type": "code",
   "execution_count": null,
   "id": "40abf98b",
   "metadata": {},
   "outputs": [],
   "source": [
    "Q-3. Write an SQL query to fetch nth max salaries from a table.\n",
    "ans - select FIRST_NAME,salary from worker where salary = (select salary from worker order by salary DESC limit 4,1);"
   ]
  },
  {
   "cell_type": "code",
   "execution_count": null,
   "id": "1fc57907",
   "metadata": {},
   "outputs": [],
   "source": []
  }
 ],
 "metadata": {
  "kernelspec": {
   "display_name": "Python 3",
   "language": "python",
   "name": "python3"
  },
  "language_info": {
   "codemirror_mode": {
    "name": "ipython",
    "version": 3
   },
   "file_extension": ".py",
   "mimetype": "text/x-python",
   "name": "python",
   "nbconvert_exporter": "python",
   "pygments_lexer": "ipython3",
   "version": "3.8.8"
  }
 },
 "nbformat": 4,
 "nbformat_minor": 5
}
