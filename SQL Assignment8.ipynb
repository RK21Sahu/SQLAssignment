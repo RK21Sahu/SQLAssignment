{
 "cells": [
  {
   "cell_type": "code",
   "execution_count": null,
   "id": "a9a0f86c",
   "metadata": {},
   "outputs": [],
   "source": [
    "Q-15. Write an SQL query to fetch intersecting records of two tables.\n",
    "\n",
    "ans - \n",
    "(select * from worker left join bonus on worker.worker_id = bonus.worker_ref_id)\n",
    "INTERSECT \n",
    "(select * from worker right join bonus on worker.worker_id = bonus.worker_ref_id);"
   ]
  },
  {
   "cell_type": "code",
   "execution_count": null,
   "id": "b790a2cd",
   "metadata": {},
   "outputs": [],
   "source": [
    "Q-16. Write an SQL query to show records from one table that another table does not have.\n",
    "ans - \n",
    "select * from worker where not exists (select * from bonus where worker.worker_id = bonus.worker_ref_id);"
   ]
  },
  {
   "cell_type": "code",
   "execution_count": null,
   "id": "2b9449bf",
   "metadata": {},
   "outputs": [],
   "source": []
  }
 ],
 "metadata": {
  "kernelspec": {
   "display_name": "Python 3",
   "language": "python",
   "name": "python3"
  },
  "language_info": {
   "codemirror_mode": {
    "name": "ipython",
    "version": 3
   },
   "file_extension": ".py",
   "mimetype": "text/x-python",
   "name": "python",
   "nbconvert_exporter": "python",
   "pygments_lexer": "ipython3",
   "version": "3.8.8"
  }
 },
 "nbformat": 4,
 "nbformat_minor": 5
}
