{
 "cells": [
  {
   "cell_type": "code",
   "execution_count": null,
   "id": "a04dfbfa",
   "metadata": {},
   "outputs": [],
   "source": [
    "Q-1. Write an SQL query to print details of the Workers who have joined in Feb’2014.\n",
    "ans - select * from worker where year(JOINING_DATE) = 2014 and month(JOINING_DATE)=02;"
   ]
  },
  {
   "cell_type": "code",
   "execution_count": null,
   "id": "de69e0d2",
   "metadata": {},
   "outputs": [],
   "source": [
    "Q-2. Write an SQL query to fetch duplicate records having matching data in some fields of a table.\n",
    "ans - select DEPARTMENT, count(DEPARTMENT) from worker group by DEPARTMENT having count(DEPARTMENT) > 1;"
   ]
  },
  {
   "cell_type": "code",
   "execution_count": null,
   "id": "68f34cb0",
   "metadata": {},
   "outputs": [],
   "source": [
    "Q-3. How to remove duplicate rows from Employees table.\n",
    "ans - WITH cte AS (\n",
    "    SELECT EMPNAME,DEPT,CONTACTNO,CITY, \n",
    "        ROW_NUMBER() OVER (\n",
    "            PARTITION BY EMPNAME,DEPT,CONTACTNO,CITY\n",
    "            ORDER BY EMPNAME,DEPT,CONTACTNO,CITY\n",
    "        ) AS row_num\n",
    "     FROM  emplyee\n",
    ")\n",
    "DELETE FROM cte\n",
    "WHERE row_num > 1;"
   ]
  },
  {
   "cell_type": "code",
   "execution_count": null,
   "id": "72fa0b83",
   "metadata": {},
   "outputs": [],
   "source": []
  }
 ],
 "metadata": {
  "kernelspec": {
   "display_name": "Python 3",
   "language": "python",
   "name": "python3"
  },
  "language_info": {
   "codemirror_mode": {
    "name": "ipython",
    "version": 3
   },
   "file_extension": ".py",
   "mimetype": "text/x-python",
   "name": "python",
   "nbconvert_exporter": "python",
   "pygments_lexer": "ipython3",
   "version": "3.8.8"
  }
 },
 "nbformat": 4,
 "nbformat_minor": 5
}
