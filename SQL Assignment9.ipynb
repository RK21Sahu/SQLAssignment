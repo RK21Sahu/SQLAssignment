{
 "cells": [
  {
   "cell_type": "code",
   "execution_count": null,
   "id": "54cacf4f",
   "metadata": {},
   "outputs": [],
   "source": [
    "Q-17.  Write an SQL query to show the top n (say 10) records of a table.\n",
    "ans - select * from worker limit 10;\n"
   ]
  },
  {
   "cell_type": "code",
   "execution_count": null,
   "id": "7bc305b8",
   "metadata": {},
   "outputs": [],
   "source": [
    "Q-18. Write an SQL query to determine the nth (say n=5) highest salary from a table.\n",
    "ans - select FIRST_NAME,salary from worker where salary = (select salary from worker order by salary DESC limit 4,1);"
   ]
  },
  {
   "cell_type": "code",
   "execution_count": null,
   "id": "1b805584",
   "metadata": {},
   "outputs": [],
   "source": []
  }
 ],
 "metadata": {
  "kernelspec": {
   "display_name": "Python 3",
   "language": "python",
   "name": "python3"
  },
  "language_info": {
   "codemirror_mode": {
    "name": "ipython",
    "version": 3
   },
   "file_extension": ".py",
   "mimetype": "text/x-python",
   "name": "python",
   "nbconvert_exporter": "python",
   "pygments_lexer": "ipython3",
   "version": "3.8.8"
  }
 },
 "nbformat": 4,
 "nbformat_minor": 5
}
