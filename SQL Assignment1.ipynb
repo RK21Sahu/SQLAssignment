{
 "cells": [
  {
   "cell_type": "code",
   "execution_count": null,
   "id": "0f6f4f53",
   "metadata": {},
   "outputs": [],
   "source": [
    "Q-1. Write an SQL query to fetch “FIRST_NAME” from Worker table using the alias name as <WORKER_NAME>.\n",
    "\n",
    "ans - select FIRST_NAME as 'WORKER_NAME' from worker;"
   ]
  },
  {
   "cell_type": "code",
   "execution_count": null,
   "id": "11de66bb",
   "metadata": {},
   "outputs": [],
   "source": [
    "Q-2. Write an SQL query to fetch unique values of DEPARTMENT from Worker table.\n",
    "\n",
    "ans - select distinct DEPARTMENT from worker;"
   ]
  },
  {
   "cell_type": "code",
   "execution_count": null,
   "id": "90a0ba04",
   "metadata": {},
   "outputs": [],
   "source": [
    "Q-3. Write an SQL query to show the last 5 record from a table.\n",
    "\n",
    "ans - select * from worker ORDER BY worker_id DESC limit 5;\n"
   ]
  },
  {
   "cell_type": "code",
   "execution_count": null,
   "id": "bf8b917a",
   "metadata": {},
   "outputs": [],
   "source": []
  },
  {
   "cell_type": "code",
   "execution_count": null,
   "id": "897c89ab",
   "metadata": {},
   "outputs": [],
   "source": []
  }
 ],
 "metadata": {
  "kernelspec": {
   "display_name": "Python 3",
   "language": "python",
   "name": "python3"
  },
  "language_info": {
   "codemirror_mode": {
    "name": "ipython",
    "version": 3
   },
   "file_extension": ".py",
   "mimetype": "text/x-python",
   "name": "python",
   "nbconvert_exporter": "python",
   "pygments_lexer": "ipython3",
   "version": "3.8.8"
  }
 },
 "nbformat": 4,
 "nbformat_minor": 5
}
