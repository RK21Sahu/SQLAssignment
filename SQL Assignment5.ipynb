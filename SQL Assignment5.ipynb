{
 "cells": [
  {
   "cell_type": "code",
   "execution_count": null,
   "id": "107a1596",
   "metadata": {},
   "outputs": [],
   "source": [
    "Q-1. Write an SQL query to print details of workers excluding first names, “Vipul” and “Satish” from Worker table.\n",
    "ans -  select * from worker where FIRST_NAME not in ('Vipul' , 'Satish');"
   ]
  },
  {
   "cell_type": "code",
   "execution_count": null,
   "id": "2016a97b",
   "metadata": {},
   "outputs": [],
   "source": [
    "Q-2. Write an SQL query to print details of the Workers whose FIRST_NAME ends with ‘h’ and contains six alphabets.\n",
    "Ans - select * from worker where FIRST_NAME like '%h' and length(FIRST_NAME)=6;"
   ]
  },
  {
   "cell_type": "code",
   "execution_count": null,
   "id": "3e47e4d2",
   "metadata": {},
   "outputs": [],
   "source": [
    "Q-3. Write a query to validate Email of Employee.\n",
    "ans - SELECT * FROM table_name WHERE email_id LIKE '%_@__%.__%';"
   ]
  },
  {
   "cell_type": "code",
   "execution_count": null,
   "id": "4cca96fe",
   "metadata": {},
   "outputs": [],
   "source": []
  }
 ],
 "metadata": {
  "kernelspec": {
   "display_name": "Python 3",
   "language": "python",
   "name": "python3"
  },
  "language_info": {
   "codemirror_mode": {
    "name": "ipython",
    "version": 3
   },
   "file_extension": ".py",
   "mimetype": "text/x-python",
   "name": "python",
   "nbconvert_exporter": "python",
   "pygments_lexer": "ipython3",
   "version": "3.8.8"
  }
 },
 "nbformat": 4,
 "nbformat_minor": 5
}
