{
 "cells": [
  {
   "cell_type": "code",
   "execution_count": null,
   "id": "e2a9467b",
   "metadata": {},
   "outputs": [],
   "source": [
    "Q-19. Write an SQL query to determine the 5th highest salary without using TOP or limit method.\n",
    "ans - \n",
    "SELECT * FROM (  \n",
    "SELECT ROW_NUMBER() OVER (ORDER BY SALARY DESC) AS rownumber,Salary  \n",
    "FROM worker )  AS foo  \n",
    "WHERE rownumber = 5  "
   ]
  },
  {
   "cell_type": "code",
   "execution_count": null,
   "id": "72f0621a",
   "metadata": {},
   "outputs": [],
   "source": [
    "Q-20. Write an SQL query to fetch the list of employees with the same salary.\n",
    "ans - \n",
    "\n",
    "SELECT *\n",
    "FROM worker\n",
    "WHERE salary IN\n",
    "    (SELECT salary\n",
    "     FROM worker w\n",
    "     WHERE worker.worker_id <> w.worker_id);"
   ]
  },
  {
   "cell_type": "code",
   "execution_count": null,
   "id": "41c51e58",
   "metadata": {},
   "outputs": [],
   "source": []
  }
 ],
 "metadata": {
  "kernelspec": {
   "display_name": "Python 3",
   "language": "python",
   "name": "python3"
  },
  "language_info": {
   "codemirror_mode": {
    "name": "ipython",
    "version": 3
   },
   "file_extension": ".py",
   "mimetype": "text/x-python",
   "name": "python",
   "nbconvert_exporter": "python",
   "pygments_lexer": "ipython3",
   "version": "3.8.8"
  }
 },
 "nbformat": 4,
 "nbformat_minor": 5
}
